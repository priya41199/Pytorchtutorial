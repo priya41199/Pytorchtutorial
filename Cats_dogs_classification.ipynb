{
 "cells": [
  {
   "cell_type": "code",
   "execution_count": 2,
   "id": "5cc940eb-36bb-4d8a-9e13-9fe9fe7aec34",
   "metadata": {},
   "outputs": [
    {
     "name": "stdout",
     "output_type": "stream",
     "text": [
      "Instance 1:\n",
      "tensor([[[-0.6796, -0.4745, -0.3824,  ...,  0.4587, -0.0532, -1.3463],\n",
      "         [ 0.3128, -0.2344, -0.5059,  ...,  0.2859,  3.0968, -0.0389],\n",
      "         [-1.7758, -0.0938, -0.7684,  ...,  1.2981,  1.9181,  1.4618],\n",
      "         ...,\n",
      "         [-1.1650,  0.7330, -0.0455,  ..., -0.6835, -0.1548,  0.7245],\n",
      "         [-0.7903,  0.9125,  0.9408,  ...,  0.3600,  0.3670, -0.5966],\n",
      "         [ 0.6992, -0.3475, -0.6590,  ...,  0.3861, -0.8643, -0.4515]],\n",
      "\n",
      "        [[ 1.1990, -2.0090,  0.5333,  ...,  0.9768, -1.4750, -0.7018],\n",
      "         [-0.1812,  1.1990,  1.1921,  ..., -0.0889,  1.0450,  0.6241],\n",
      "         [ 1.7776, -0.4015,  0.9866,  ..., -0.1947, -0.7161,  0.0258],\n",
      "         ...,\n",
      "         [ 0.0984,  3.1644,  0.1454,  ...,  0.2265, -0.4929, -0.7936],\n",
      "         [ 0.0081, -0.4923,  0.0905,  ..., -0.1744, -0.0964,  0.3705],\n",
      "         [ 2.2336,  0.1073, -1.0200,  ..., -0.4458,  2.1302, -1.1563]],\n",
      "\n",
      "        [[-0.8827, -1.1387,  1.2561,  ...,  1.9854,  0.5606,  0.7438],\n",
      "         [-0.2607, -0.6773, -1.3877,  ..., -1.5151, -0.4255, -0.5752],\n",
      "         [ 1.0807,  0.3990,  1.1321,  ..., -1.4348, -0.5412, -0.1082],\n",
      "         ...,\n",
      "         [-0.1768,  1.1291, -1.5616,  ...,  0.1826, -1.0661,  0.2566],\n",
      "         [ 1.2689, -0.2399, -0.2613,  ..., -0.0289, -0.9920,  0.1875],\n",
      "         [ 2.9259,  0.2258,  0.3773,  ..., -0.6231, -0.6658, -1.5648]]])\n",
      "\n"
     ]
    }
   ],
   "source": [
    "import torch\n",
    "\n",
    "# Create a random tensor with dimensions 200x3x600x800\n",
    "example_tensor = torch.randn(200, 3, 600, 800)\n",
    "\n",
    "# Print the first 10 instances\n",
    "for i in range(1):\n",
    "    print(f\"Instance {i+1}:\\n{example_tensor[i]}\\n\")"
   ]
  },
  {
   "cell_type": "code",
   "execution_count": 5,
   "id": "30fc08cf-cfcc-4a24-ba5a-1c2060d3c979",
   "metadata": {},
   "outputs": [
    {
     "name": "stderr",
     "output_type": "stream",
     "text": [
      "'wget' is not recognized as an internal or external command,\n",
      "operable program or batch file.\n"
     ]
    }
   ],
   "source": [
    "!wget https://raw.githubusercontent.com/MicrosoftDocs/pytorchfundamentals/main/computer-vision-pytorch/pytorchcv.py"
   ]
  },
  {
   "cell_type": "code",
   "execution_count": 12,
   "id": "a917eebb-d81c-49c1-8ec9-1d09f266b3ae",
   "metadata": {},
   "outputs": [],
   "source": [
    "import torch\n",
    "import torch.nn as nn\n",
    "import torchvision\n",
    "from torchvision.transforms import ToTensor, Lambda\n",
    "import matplotlib.pyplot as plt\n",
    "from torchinfo import summary\n"
   ]
  },
  {
   "cell_type": "code",
   "execution_count": 15,
   "id": "16bf8239-11b1-4aa0-bdcf-14e6402de524",
   "metadata": {},
   "outputs": [],
   "source": [
    "def load_mnist(batch_size=64):\n",
    "    data_train = torchvision.datasets.MNIST('./data',\n",
    "        download=True,train=True,transform=ToTensor())\n",
    "    data_test = torchvision.datasets.MNIST('./data',\n",
    "        download=True,train=False,transform=ToTensor())\n",
    "    train_loader = torch.utils.data.DataLoader(data_train,batch_size=batch_size)\n",
    "    test_loader = torch.utils.data.DataLoader(data_test,batch_size=batch_size)"
   ]
  },
  {
   "cell_type": "code",
   "execution_count": 16,
   "id": "b0544e50-caf0-4291-8d87-2c64f459499d",
   "metadata": {},
   "outputs": [],
   "source": [
    "load_mnist()"
   ]
  },
  {
   "cell_type": "code",
   "execution_count": 17,
   "id": "0dce345e-26e3-4352-b20a-298291d9d98a",
   "metadata": {},
   "outputs": [],
   "source": [
    "from torch import nn"
   ]
  },
  {
   "cell_type": "code",
   "execution_count": 20,
   "id": "9fe008de-da12-488e-bef6-61f2de763661",
   "metadata": {},
   "outputs": [],
   "source": [
    "nn_model= nn.Sequential(\n",
    "    nn.Flatten(),\n",
    "    nn.Linear(784,10),\n",
    "    nn.LogSoftmax()\n",
    ")"
   ]
  },
  {
   "cell_type": "code",
   "execution_count": null,
   "id": "fa6b2bf9-6428-4e5e-9621-52e9a960c857",
   "metadata": {},
   "outputs": [],
   "source": [
    "def train_epoch(nn_model, dataloader, lr=0.01, optimizer = None, loss_fn=nn.NLLLoss()):\n",
    "    optimizer = torch.optim.Adam(nn_model.parameters(),lr=0.01)\n",
    "    nn_model.train()\n",
    "    total,acc,count = 0,0,0\n",
    "    for features, labels in dataloader:\n",
    "        "
   ]
  },
  {
   "cell_type": "code",
   "execution_count": null,
   "id": "bc99b98a-f30e-4140-bd65-8066a4b8e036",
   "metadata": {},
   "outputs": [],
   "source": []
  }
 ],
 "metadata": {
  "kernelspec": {
   "display_name": "Python 3 (ipykernel)",
   "language": "python",
   "name": "python3"
  },
  "language_info": {
   "codemirror_mode": {
    "name": "ipython",
    "version": 3
   },
   "file_extension": ".py",
   "mimetype": "text/x-python",
   "name": "python",
   "nbconvert_exporter": "python",
   "pygments_lexer": "ipython3",
   "version": "3.11.4"
  }
 },
 "nbformat": 4,
 "nbformat_minor": 5
}
